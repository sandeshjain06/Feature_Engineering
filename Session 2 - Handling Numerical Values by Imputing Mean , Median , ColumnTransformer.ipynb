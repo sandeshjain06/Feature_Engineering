{
 "cells": [
  {
   "cell_type": "markdown",
   "id": "050264e9",
   "metadata": {},
   "source": [
    "### To Fill the missing values.\n",
    "   \n",
    "    1. Univariate Imputation : To fill the values if we are taking values from 1 feature only .\n",
    "    \n",
    "    SimpleImputator class is available in sklearn library to work with univariate.\n",
    "    For numerical - mean , median , random value , End of distribution values.\n",
    "    For categorial  - mode  . \n",
    "\n",
    "    2. Multivariate Imputation -  KNN Imputer , Iterative Imputer\n",
    "    If we are taking values from more than 1 feature to fill the missing values then called as multivariate imputation.\n",
    "    \n",
    "### When to use Mean/Median Imputation\n",
    "\n",
    "    When data is MCAR\n",
    "    When missing data is less than 5%\n",
    "   \n",
    "    \n",
    "### When to use Mean/Median \n",
    "\n",
    "    Use mean : If distribution is normal \n",
    "    Use median : If data is skewed.\n",
    "    \n",
    "    \n",
    "### Advantages\n",
    "\n",
    "    Simple to implement\n",
    "    \n",
    "### Disadvantages\n",
    "\n",
    "    Distribution gets changed.\n",
    "    Outliers gets added\n",
    "    Covariance gets changed.\n",
    "\n"
   ]
  },
  {
   "cell_type": "code",
   "execution_count": 1,
   "id": "8c5f1be9",
   "metadata": {},
   "outputs": [],
   "source": [
    "import pandas as pd \n",
    "import numpy as np \n",
    "import matplotlib.pyplot as plt \n",
    "import seaborn as sns \n",
    "from sklearn.model_selection import train_test_split \n",
    "\n",
    "import warnings\n",
    "warnings.filterwarnings('ignore')"
   ]
  },
  {
   "cell_type": "code",
   "execution_count": 2,
   "id": "6d24afc7",
   "metadata": {},
   "outputs": [
    {
     "data": {
      "text/html": [
       "<div>\n",
       "<style scoped>\n",
       "    .dataframe tbody tr th:only-of-type {\n",
       "        vertical-align: middle;\n",
       "    }\n",
       "\n",
       "    .dataframe tbody tr th {\n",
       "        vertical-align: top;\n",
       "    }\n",
       "\n",
       "    .dataframe thead th {\n",
       "        text-align: right;\n",
       "    }\n",
       "</style>\n",
       "<table border=\"1\" class=\"dataframe\">\n",
       "  <thead>\n",
       "    <tr style=\"text-align: right;\">\n",
       "      <th></th>\n",
       "      <th>Age</th>\n",
       "      <th>Fare</th>\n",
       "      <th>Family</th>\n",
       "      <th>Survived</th>\n",
       "    </tr>\n",
       "  </thead>\n",
       "  <tbody>\n",
       "    <tr>\n",
       "      <th>0</th>\n",
       "      <td>22.0</td>\n",
       "      <td>7.2500</td>\n",
       "      <td>1</td>\n",
       "      <td>0</td>\n",
       "    </tr>\n",
       "    <tr>\n",
       "      <th>1</th>\n",
       "      <td>38.0</td>\n",
       "      <td>71.2833</td>\n",
       "      <td>1</td>\n",
       "      <td>1</td>\n",
       "    </tr>\n",
       "    <tr>\n",
       "      <th>2</th>\n",
       "      <td>26.0</td>\n",
       "      <td>7.9250</td>\n",
       "      <td>0</td>\n",
       "      <td>1</td>\n",
       "    </tr>\n",
       "    <tr>\n",
       "      <th>3</th>\n",
       "      <td>35.0</td>\n",
       "      <td>53.1000</td>\n",
       "      <td>1</td>\n",
       "      <td>1</td>\n",
       "    </tr>\n",
       "    <tr>\n",
       "      <th>4</th>\n",
       "      <td>35.0</td>\n",
       "      <td>8.0500</td>\n",
       "      <td>0</td>\n",
       "      <td>0</td>\n",
       "    </tr>\n",
       "  </tbody>\n",
       "</table>\n",
       "</div>"
      ],
      "text/plain": [
       "    Age     Fare  Family  Survived\n",
       "0  22.0   7.2500       1         0\n",
       "1  38.0  71.2833       1         1\n",
       "2  26.0   7.9250       0         1\n",
       "3  35.0  53.1000       1         1\n",
       "4  35.0   8.0500       0         0"
      ]
     },
     "execution_count": 2,
     "metadata": {},
     "output_type": "execute_result"
    }
   ],
   "source": [
    "df=pd.read_csv(\"D:/Sandesh/100-days-of-machine-learning/day36-imputing-numerical-data/titanic_toy.csv\")\n",
    "df.head()"
   ]
  },
  {
   "cell_type": "code",
   "execution_count": 3,
   "id": "843efaed",
   "metadata": {},
   "outputs": [
    {
     "data": {
      "text/plain": [
       "Age         19.865320\n",
       "Fare         5.050505\n",
       "Family       0.000000\n",
       "Survived     0.000000\n",
       "dtype: float64"
      ]
     },
     "execution_count": 3,
     "metadata": {},
     "output_type": "execute_result"
    }
   ],
   "source": [
    "df.isnull().mean()*100"
   ]
  },
  {
   "cell_type": "code",
   "execution_count": 5,
   "id": "f8b25e05",
   "metadata": {},
   "outputs": [
    {
     "data": {
      "image/png": "[encoded data removed]",
      "text/plain": [
       "<Figure size 432x288 with 1 Axes>"
      ]
     },
     "metadata": {
      "needs_background": "light"
     },
     "output_type": "display_data"
    }
   ],
   "source": [
    "sns.distplot(df['Age'])\n",
    "plt.show()"
   ]
  },
  {
   "cell_type": "code",
   "execution_count": 6,
   "id": "d7a8367d",
   "metadata": {},
   "outputs": [
    {
     "data": {
      "text/plain": [
       "0.38910778230082704"
      ]
     },
     "execution_count": 6,
     "metadata": {},
     "output_type": "execute_result"
    }
   ],
   "source": [
    "df['Age'].skew()"
   ]
  },
  {
   "cell_type": "code",
   "execution_count": 4,
   "id": "a4701249",
   "metadata": {},
   "outputs": [],
   "source": [
    "X=df.drop(columns=['Survived'])\n",
    "y=df[['Survived']]\n",
    "X_train,X_test,y_train,y_test=train_test_split(X,y,test_size=0.2,random_state=1)\n"
   ]
  },
  {
   "cell_type": "code",
   "execution_count": 5,
   "id": "a1e8e108",
   "metadata": {},
   "outputs": [],
   "source": [
    "mean_age=X_train['Age'].mean()\n",
    "median_age=X_train['Age'].median()\n",
    "\n",
    "mean_fare=X_train['Fare'].mean()\n",
    "median_fare=X_train['Fare'].median()\n",
    "\n",
    "X_train['Age_mean']=X_train['Age'].fillna(mean_age)\n",
    "X_train['Age_median']=X_train['Age'].fillna(median_age)\n",
    "\n",
    "X_train['Fare_mean']=X_train['Fare'].fillna(mean_fare)\n",
    "X_train['Fare_median']=X_train['Fare'].fillna(median_fare)\n"
   ]
  },
  {
   "cell_type": "code",
   "execution_count": 6,
   "id": "f325d574",
   "metadata": {},
   "outputs": [
    {
     "data": {
      "text/html": [
       "<div>\n",
       "<style scoped>\n",
       "    .dataframe tbody tr th:only-of-type {\n",
       "        vertical-align: middle;\n",
       "    }\n",
       "\n",
       "    .dataframe tbody tr th {\n",
       "        vertical-align: top;\n",
       "    }\n",
       "\n",
       "    .dataframe thead th {\n",
       "        text-align: right;\n",
       "    }\n",
       "</style>\n",
       "<table border=\"1\" class=\"dataframe\">\n",
       "  <thead>\n",
       "    <tr style=\"text-align: right;\">\n",
       "      <th></th>\n",
       "      <th>Age</th>\n",
       "      <th>Fare</th>\n",
       "      <th>Family</th>\n",
       "      <th>Age_mean</th>\n",
       "      <th>Age_median</th>\n",
       "      <th>Fare_mean</th>\n",
       "      <th>Fare_median</th>\n",
       "    </tr>\n",
       "  </thead>\n",
       "  <tbody>\n",
       "    <tr>\n",
       "      <th>301</th>\n",
       "      <td>NaN</td>\n",
       "      <td>23.2500</td>\n",
       "      <td>2</td>\n",
       "      <td>30.166232</td>\n",
       "      <td>29.0</td>\n",
       "      <td>23.2500</td>\n",
       "      <td>23.2500</td>\n",
       "    </tr>\n",
       "    <tr>\n",
       "      <th>309</th>\n",
       "      <td>30.0</td>\n",
       "      <td>56.9292</td>\n",
       "      <td>0</td>\n",
       "      <td>30.000000</td>\n",
       "      <td>30.0</td>\n",
       "      <td>56.9292</td>\n",
       "      <td>56.9292</td>\n",
       "    </tr>\n",
       "    <tr>\n",
       "      <th>516</th>\n",
       "      <td>34.0</td>\n",
       "      <td>10.5000</td>\n",
       "      <td>0</td>\n",
       "      <td>34.000000</td>\n",
       "      <td>34.0</td>\n",
       "      <td>10.5000</td>\n",
       "      <td>10.5000</td>\n",
       "    </tr>\n",
       "    <tr>\n",
       "      <th>120</th>\n",
       "      <td>21.0</td>\n",
       "      <td>73.5000</td>\n",
       "      <td>2</td>\n",
       "      <td>21.000000</td>\n",
       "      <td>21.0</td>\n",
       "      <td>73.5000</td>\n",
       "      <td>73.5000</td>\n",
       "    </tr>\n",
       "    <tr>\n",
       "      <th>570</th>\n",
       "      <td>62.0</td>\n",
       "      <td>10.5000</td>\n",
       "      <td>0</td>\n",
       "      <td>62.000000</td>\n",
       "      <td>62.0</td>\n",
       "      <td>10.5000</td>\n",
       "      <td>10.5000</td>\n",
       "    </tr>\n",
       "    <tr>\n",
       "      <th>...</th>\n",
       "      <td>...</td>\n",
       "      <td>...</td>\n",
       "      <td>...</td>\n",
       "      <td>...</td>\n",
       "      <td>...</td>\n",
       "      <td>...</td>\n",
       "      <td>...</td>\n",
       "    </tr>\n",
       "    <tr>\n",
       "      <th>715</th>\n",
       "      <td>19.0</td>\n",
       "      <td>7.6500</td>\n",
       "      <td>0</td>\n",
       "      <td>19.000000</td>\n",
       "      <td>19.0</td>\n",
       "      <td>7.6500</td>\n",
       "      <td>7.6500</td>\n",
       "    </tr>\n",
       "    <tr>\n",
       "      <th>767</th>\n",
       "      <td>30.5</td>\n",
       "      <td>7.7500</td>\n",
       "      <td>0</td>\n",
       "      <td>30.500000</td>\n",
       "      <td>30.5</td>\n",
       "      <td>7.7500</td>\n",
       "      <td>7.7500</td>\n",
       "    </tr>\n",
       "    <tr>\n",
       "      <th>72</th>\n",
       "      <td>21.0</td>\n",
       "      <td>73.5000</td>\n",
       "      <td>0</td>\n",
       "      <td>21.000000</td>\n",
       "      <td>21.0</td>\n",
       "      <td>73.5000</td>\n",
       "      <td>73.5000</td>\n",
       "    </tr>\n",
       "    <tr>\n",
       "      <th>235</th>\n",
       "      <td>NaN</td>\n",
       "      <td>7.5500</td>\n",
       "      <td>0</td>\n",
       "      <td>30.166232</td>\n",
       "      <td>29.0</td>\n",
       "      <td>7.5500</td>\n",
       "      <td>7.5500</td>\n",
       "    </tr>\n",
       "    <tr>\n",
       "      <th>37</th>\n",
       "      <td>21.0</td>\n",
       "      <td>8.0500</td>\n",
       "      <td>0</td>\n",
       "      <td>21.000000</td>\n",
       "      <td>21.0</td>\n",
       "      <td>8.0500</td>\n",
       "      <td>8.0500</td>\n",
       "    </tr>\n",
       "  </tbody>\n",
       "</table>\n",
       "<p>712 rows × 7 columns</p>\n",
       "</div>"
      ],
      "text/plain": [
       "      Age     Fare  Family   Age_mean  Age_median  Fare_mean  Fare_median\n",
       "301   NaN  23.2500       2  30.166232        29.0    23.2500      23.2500\n",
       "309  30.0  56.9292       0  30.000000        30.0    56.9292      56.9292\n",
       "516  34.0  10.5000       0  34.000000        34.0    10.5000      10.5000\n",
       "120  21.0  73.5000       2  21.000000        21.0    73.5000      73.5000\n",
       "570  62.0  10.5000       0  62.000000        62.0    10.5000      10.5000\n",
       "..    ...      ...     ...        ...         ...        ...          ...\n",
       "715  19.0   7.6500       0  19.000000        19.0     7.6500       7.6500\n",
       "767  30.5   7.7500       0  30.500000        30.5     7.7500       7.7500\n",
       "72   21.0  73.5000       0  21.000000        21.0    73.5000      73.5000\n",
       "235   NaN   7.5500       0  30.166232        29.0     7.5500       7.5500\n",
       "37   21.0   8.0500       0  21.000000        21.0     8.0500       8.0500\n",
       "\n",
       "[712 rows x 7 columns]"
      ]
     },
     "execution_count": 6,
     "metadata": {},
     "output_type": "execute_result"
    }
   ],
   "source": [
    "X_train"
   ]
  },
  {
   "cell_type": "markdown",
   "id": "f5abbec0",
   "metadata": {},
   "source": [
    "### After Imputing with mean , median , check the below things.\n",
    "\n",
    "1. Variance\n",
    "2. Distribution \n",
    "3. Correlation , Covariance\n",
    "4. Draw Boxplot \n"
   ]
  },
  {
   "cell_type": "markdown",
   "id": "d63b45bf",
   "metadata": {},
   "source": [
    "### 1. Check whether the variance is changed or not "
   ]
  },
  {
   "cell_type": "code",
   "execution_count": 7,
   "id": "56257292",
   "metadata": {},
   "outputs": [
    {
     "name": "stdout",
     "output_type": "stream",
     "text": [
      "Before variance for age  220.7125508594779\n",
      "After variance 176.0112747360393\n",
      "After variance 176.23102602680237\n",
      "\n",
      "Before variance for fare  2179.2211148474044\n",
      "After variance 2065.81579663453\n",
      "After variance 2080.7804077558935\n"
     ]
    }
   ],
   "source": [
    "print(\"Before variance for age \",X_train['Age'].var())\n",
    "print(\"After variance\",X_train['Age_mean'].var())\n",
    "print(\"After variance\",X_train['Age_median'].var())\n",
    "\n",
    "\n",
    "print(\"\\nBefore variance for fare \",X_train['Fare'].var())\n",
    "print(\"After variance\",X_train['Fare_mean'].var())\n",
    "print(\"After variance\",X_train['Fare_median'].var())\n",
    "\n",
    "# Before variance and after variance the values should be change too much.\n",
    "# If there is too much change then it is a red flag.\n"
   ]
  },
  {
   "cell_type": "markdown",
   "id": "829773cd",
   "metadata": {},
   "source": [
    "### 2. Check the distribution as well "
   ]
  },
  {
   "cell_type": "code",
   "execution_count": 8,
   "id": "f875edef",
   "metadata": {},
   "outputs": [
    {
     "data": {
      "text/plain": [
       "<matplotlib.legend.Legend at 0x1e723c244c0>"
      ]
     },
     "execution_count": 8,
     "metadata": {},
     "output_type": "execute_result"
    },
    {
     "data": {
      "image/png": "[encoded data removed]",
      "text/plain": [
       "<Figure size 432x288 with 1 Axes>"
      ]
     },
     "metadata": {
      "needs_background": "light"
     },
     "output_type": "display_data"
    }
   ],
   "source": [
    "fig=plt.figure()\n",
    "ax=fig.add_subplot(111)\n",
    "\n",
    "X_train['Age'].plot(kind='kde')\n",
    "\n",
    "X_train['Age_mean'].plot(kind='kde')\n",
    "\n",
    "X_train['Age_median'].plot(kind='kde')\n",
    "lines,labels=ax.get_legend_handles_labels()\n",
    "ax.legend(lines,labels,loc='best')"
   ]
  },
  {
   "cell_type": "code",
   "execution_count": 9,
   "id": "96095adf",
   "metadata": {},
   "outputs": [
    {
     "data": {
      "text/plain": [
       "<matplotlib.legend.Legend at 0x1e72445c310>"
      ]
     },
     "execution_count": 9,
     "metadata": {},
     "output_type": "execute_result"
    },
    {
     "data": {
      "image/png": "[encoded data removed]",
      "text/plain": [
       "<Figure size 432x288 with 1 Axes>"
      ]
     },
     "metadata": {
      "needs_background": "light"
     },
     "output_type": "display_data"
    }
   ],
   "source": [
    "fig=plt.figure()\n",
    "ax=fig.add_subplot(111)\n",
    "\n",
    "X_train['Fare'].plot(kind='kde')\n",
    "\n",
    "X_train['Fare_mean'].plot(kind='kde')\n",
    "\n",
    "X_train['Fare_median'].plot(kind='kde')\n",
    "lines,labels=ax.get_legend_handles_labels()\n",
    "ax.legend(lines,labels,loc='best')"
   ]
  },
  {
   "cell_type": "markdown",
   "id": "c5ef3125",
   "metadata": {},
   "source": [
    "### 3.Check the co-variance "
   ]
  },
  {
   "cell_type": "code",
   "execution_count": 10,
   "id": "b1a6f807",
   "metadata": {},
   "outputs": [
    {
     "data": {
      "text/html": [
       "<div>\n",
       "<style scoped>\n",
       "    .dataframe tbody tr th:only-of-type {\n",
       "        vertical-align: middle;\n",
       "    }\n",
       "\n",
       "    .dataframe tbody tr th {\n",
       "        vertical-align: top;\n",
       "    }\n",
       "\n",
       "    .dataframe thead th {\n",
       "        text-align: right;\n",
       "    }\n",
       "</style>\n",
       "<table border=\"1\" class=\"dataframe\">\n",
       "  <thead>\n",
       "    <tr style=\"text-align: right;\">\n",
       "      <th></th>\n",
       "      <th>Age</th>\n",
       "      <th>Fare</th>\n",
       "      <th>Family</th>\n",
       "      <th>Age_mean</th>\n",
       "      <th>Age_median</th>\n",
       "      <th>Fare_mean</th>\n",
       "      <th>Fare_median</th>\n",
       "    </tr>\n",
       "  </thead>\n",
       "  <tbody>\n",
       "    <tr>\n",
       "      <th>Age</th>\n",
       "      <td>1.000000</td>\n",
       "      <td>0.109163</td>\n",
       "      <td>-0.283794</td>\n",
       "      <td>1.000000</td>\n",
       "      <td>1.000000</td>\n",
       "      <td>0.106805</td>\n",
       "      <td>0.106628</td>\n",
       "    </tr>\n",
       "    <tr>\n",
       "      <th>Fare</th>\n",
       "      <td>0.109163</td>\n",
       "      <td>1.000000</td>\n",
       "      <td>0.253653</td>\n",
       "      <td>0.102470</td>\n",
       "      <td>0.105678</td>\n",
       "      <td>1.000000</td>\n",
       "      <td>1.000000</td>\n",
       "    </tr>\n",
       "    <tr>\n",
       "      <th>Family</th>\n",
       "      <td>-0.283794</td>\n",
       "      <td>0.253653</td>\n",
       "      <td>1.000000</td>\n",
       "      <td>-0.238561</td>\n",
       "      <td>-0.236312</td>\n",
       "      <td>0.248874</td>\n",
       "      <td>0.246911</td>\n",
       "    </tr>\n",
       "    <tr>\n",
       "      <th>Age_mean</th>\n",
       "      <td>1.000000</td>\n",
       "      <td>0.102470</td>\n",
       "      <td>-0.238561</td>\n",
       "      <td>1.000000</td>\n",
       "      <td>0.999376</td>\n",
       "      <td>0.100227</td>\n",
       "      <td>0.100142</td>\n",
       "    </tr>\n",
       "    <tr>\n",
       "      <th>Age_median</th>\n",
       "      <td>1.000000</td>\n",
       "      <td>0.105678</td>\n",
       "      <td>-0.236312</td>\n",
       "      <td>0.999376</td>\n",
       "      <td>1.000000</td>\n",
       "      <td>0.103366</td>\n",
       "      <td>0.103153</td>\n",
       "    </tr>\n",
       "    <tr>\n",
       "      <th>Fare_mean</th>\n",
       "      <td>0.106805</td>\n",
       "      <td>1.000000</td>\n",
       "      <td>0.248874</td>\n",
       "      <td>0.100227</td>\n",
       "      <td>0.103366</td>\n",
       "      <td>1.000000</td>\n",
       "      <td>0.996398</td>\n",
       "    </tr>\n",
       "    <tr>\n",
       "      <th>Fare_median</th>\n",
       "      <td>0.106628</td>\n",
       "      <td>1.000000</td>\n",
       "      <td>0.246911</td>\n",
       "      <td>0.100142</td>\n",
       "      <td>0.103153</td>\n",
       "      <td>0.996398</td>\n",
       "      <td>1.000000</td>\n",
       "    </tr>\n",
       "  </tbody>\n",
       "</table>\n",
       "</div>"
      ],
      "text/plain": [
       "                  Age      Fare    Family  Age_mean  Age_median  Fare_mean  \\\n",
       "Age          1.000000  0.109163 -0.283794  1.000000    1.000000   0.106805   \n",
       "Fare         0.109163  1.000000  0.253653  0.102470    0.105678   1.000000   \n",
       "Family      -0.283794  0.253653  1.000000 -0.238561   -0.236312   0.248874   \n",
       "Age_mean     1.000000  0.102470 -0.238561  1.000000    0.999376   0.100227   \n",
       "Age_median   1.000000  0.105678 -0.236312  0.999376    1.000000   0.103366   \n",
       "Fare_mean    0.106805  1.000000  0.248874  0.100227    0.103366   1.000000   \n",
       "Fare_median  0.106628  1.000000  0.246911  0.100142    0.103153   0.996398   \n",
       "\n",
       "             Fare_median  \n",
       "Age             0.106628  \n",
       "Fare            1.000000  \n",
       "Family          0.246911  \n",
       "Age_mean        0.100142  \n",
       "Age_median      0.103153  \n",
       "Fare_mean       0.996398  \n",
       "Fare_median     1.000000  "
      ]
     },
     "execution_count": 10,
     "metadata": {},
     "output_type": "execute_result"
    }
   ],
   "source": [
    "X_train.corr()\n",
    "\n",
    "# check with respect to age and fare before and after there should not be \n",
    "# too much changes."
   ]
  },
  {
   "cell_type": "code",
   "execution_count": 11,
   "id": "749fcfda",
   "metadata": {},
   "outputs": [
    {
     "data": {
      "text/html": [
       "<div>\n",
       "<style scoped>\n",
       "    .dataframe tbody tr th:only-of-type {\n",
       "        vertical-align: middle;\n",
       "    }\n",
       "\n",
       "    .dataframe tbody tr th {\n",
       "        vertical-align: top;\n",
       "    }\n",
       "\n",
       "    .dataframe thead th {\n",
       "        text-align: right;\n",
       "    }\n",
       "</style>\n",
       "<table border=\"1\" class=\"dataframe\">\n",
       "  <thead>\n",
       "    <tr style=\"text-align: right;\">\n",
       "      <th></th>\n",
       "      <th>Age</th>\n",
       "      <th>Fare</th>\n",
       "      <th>Family</th>\n",
       "      <th>Age_mean</th>\n",
       "      <th>Age_median</th>\n",
       "      <th>Fare_mean</th>\n",
       "      <th>Fare_median</th>\n",
       "    </tr>\n",
       "  </thead>\n",
       "  <tbody>\n",
       "    <tr>\n",
       "      <th>Age</th>\n",
       "      <td>220.712551</td>\n",
       "      <td>80.290359</td>\n",
       "      <td>-5.974166</td>\n",
       "      <td>220.712551</td>\n",
       "      <td>220.712551</td>\n",
       "      <td>75.785411</td>\n",
       "      <td>75.994880</td>\n",
       "    </tr>\n",
       "    <tr>\n",
       "      <th>Fare</th>\n",
       "      <td>80.290359</td>\n",
       "      <td>2179.221115</td>\n",
       "      <td>17.962001</td>\n",
       "      <td>63.754196</td>\n",
       "      <td>65.792314</td>\n",
       "      <td>2179.221115</td>\n",
       "      <td>2179.221115</td>\n",
       "    </tr>\n",
       "    <tr>\n",
       "      <th>Family</th>\n",
       "      <td>-5.974166</td>\n",
       "      <td>17.962001</td>\n",
       "      <td>2.265902</td>\n",
       "      <td>-4.764208</td>\n",
       "      <td>-4.722243</td>\n",
       "      <td>17.027269</td>\n",
       "      <td>16.954058</td>\n",
       "    </tr>\n",
       "    <tr>\n",
       "      <th>Age_mean</th>\n",
       "      <td>220.712551</td>\n",
       "      <td>63.754196</td>\n",
       "      <td>-4.764208</td>\n",
       "      <td>176.011275</td>\n",
       "      <td>176.011275</td>\n",
       "      <td>60.436467</td>\n",
       "      <td>60.603512</td>\n",
       "    </tr>\n",
       "    <tr>\n",
       "      <th>Age_median</th>\n",
       "      <td>220.712551</td>\n",
       "      <td>65.792314</td>\n",
       "      <td>-4.722243</td>\n",
       "      <td>176.011275</td>\n",
       "      <td>176.231026</td>\n",
       "      <td>62.368522</td>\n",
       "      <td>62.464631</td>\n",
       "    </tr>\n",
       "    <tr>\n",
       "      <th>Fare_mean</th>\n",
       "      <td>75.785411</td>\n",
       "      <td>2179.221115</td>\n",
       "      <td>17.027269</td>\n",
       "      <td>60.436467</td>\n",
       "      <td>62.368522</td>\n",
       "      <td>2065.815797</td>\n",
       "      <td>2065.815797</td>\n",
       "    </tr>\n",
       "    <tr>\n",
       "      <th>Fare_median</th>\n",
       "      <td>75.994880</td>\n",
       "      <td>2179.221115</td>\n",
       "      <td>16.954058</td>\n",
       "      <td>60.603512</td>\n",
       "      <td>62.464631</td>\n",
       "      <td>2065.815797</td>\n",
       "      <td>2080.780408</td>\n",
       "    </tr>\n",
       "  </tbody>\n",
       "</table>\n",
       "</div>"
      ],
      "text/plain": [
       "                    Age         Fare     Family    Age_mean  Age_median  \\\n",
       "Age          220.712551    80.290359  -5.974166  220.712551  220.712551   \n",
       "Fare          80.290359  2179.221115  17.962001   63.754196   65.792314   \n",
       "Family        -5.974166    17.962001   2.265902   -4.764208   -4.722243   \n",
       "Age_mean     220.712551    63.754196  -4.764208  176.011275  176.011275   \n",
       "Age_median   220.712551    65.792314  -4.722243  176.011275  176.231026   \n",
       "Fare_mean     75.785411  2179.221115  17.027269   60.436467   62.368522   \n",
       "Fare_median   75.994880  2179.221115  16.954058   60.603512   62.464631   \n",
       "\n",
       "               Fare_mean  Fare_median  \n",
       "Age            75.785411    75.994880  \n",
       "Fare         2179.221115  2179.221115  \n",
       "Family         17.027269    16.954058  \n",
       "Age_mean       60.436467    60.603512  \n",
       "Age_median     62.368522    62.464631  \n",
       "Fare_mean    2065.815797  2065.815797  \n",
       "Fare_median  2065.815797  2080.780408  "
      ]
     },
     "execution_count": 11,
     "metadata": {},
     "output_type": "execute_result"
    }
   ],
   "source": [
    "X_train.cov()"
   ]
  },
  {
   "cell_type": "markdown",
   "id": "2b3c4904",
   "metadata": {},
   "source": [
    "### 4. BoxPlot "
   ]
  },
  {
   "cell_type": "code",
   "execution_count": 12,
   "id": "1fd57886",
   "metadata": {},
   "outputs": [
    {
     "data": {
      "text/plain": [
       "<AxesSubplot:>"
      ]
     },
     "execution_count": 12,
     "metadata": {},
     "output_type": "execute_result"
    },
    {
     "data": {
      "image/png": "[encoded data removed]",
      "text/plain": [
       "<Figure size 432x288 with 1 Axes>"
      ]
     },
     "metadata": {
      "needs_background": "light"
     },
     "output_type": "display_data"
    }
   ],
   "source": [
    "X_train[['Age','Age_median','Age_mean']].boxplot()\n",
    "\n",
    "# there is major changes \n"
   ]
  },
  {
   "cell_type": "code",
   "execution_count": 13,
   "id": "41eddf48",
   "metadata": {},
   "outputs": [
    {
     "data": {
      "text/plain": [
       "<AxesSubplot:>"
      ]
     },
     "execution_count": 13,
     "metadata": {},
     "output_type": "execute_result"
    },
    {
     "data": {
      "image/png": "[encoded data removed]",
      "text/plain": [
       "<Figure size 432x288 with 1 Axes>"
      ]
     },
     "metadata": {
      "needs_background": "light"
     },
     "output_type": "display_data"
    }
   ],
   "source": [
    "X_train[['Fare','Fare_median','Fare_mean']].boxplot()\n",
    "\n",
    "# there is no changes .\n"
   ]
  },
  {
   "cell_type": "markdown",
   "id": "55f640bd",
   "metadata": {},
   "source": [
    "### For Ages we cannot impute as it is giving bad results for all options , but for fare we can go with imputation "
   ]
  },
  {
   "cell_type": "markdown",
   "id": "652bf0ce",
   "metadata": {},
   "source": [
    "### SECOND APPROACH\n",
    "\n",
    "### Using  Sklearn \n",
    "\n",
    "- We can pass diff imputer to diff features using sklearn simple imputer and column transformer\n"
   ]
  },
  {
   "cell_type": "code",
   "execution_count": 14,
   "id": "75e81f69",
   "metadata": {},
   "outputs": [],
   "source": [
    "from sklearn.impute import SimpleImputer\n",
    "from sklearn.compose import ColumnTransformer\n",
    "X_train,X_test,y_train,y_test=train_test_split(X,y,test_size=0.2,random_state=2)\n"
   ]
  },
  {
   "cell_type": "code",
   "execution_count": 15,
   "id": "0b248a54",
   "metadata": {},
   "outputs": [
    {
     "data": {
      "text/plain": [
       "ColumnTransformer(remainder='passthrough',\n",
       "                  transformers=[('imputer1', SimpleImputer(strategy='median'),\n",
       "                                 ['Age']),\n",
       "                                ('imputer2', SimpleImputer(), ['Fare'])])"
      ]
     },
     "execution_count": 15,
     "metadata": {},
     "output_type": "execute_result"
    }
   ],
   "source": [
    "imputer1=SimpleImputer(strategy='median')\n",
    "imputer2=SimpleImputer(strategy='mean')\n",
    "\n",
    "trf=ColumnTransformer([\n",
    "    ('imputer1',imputer1,['Age']),\n",
    "    ('imputer2',imputer2,['Fare']),\n",
    "],remainder= 'passthrough')\n",
    "\n",
    "\n",
    "trf.fit(X_train)\n"
   ]
  },
  {
   "cell_type": "code",
   "execution_count": 16,
   "id": "cba26ed7",
   "metadata": {},
   "outputs": [
    {
     "data": {
      "text/plain": [
       "array([[ 40.    ,  27.7208,   0.    ],\n",
       "       [  4.    ,  16.7   ,   2.    ],\n",
       "       [ 47.    ,   9.    ,   0.    ],\n",
       "       ...,\n",
       "       [ 71.    ,  49.5042,   0.    ],\n",
       "       [ 28.75  , 221.7792,   0.    ],\n",
       "       [ 28.75  ,  25.925 ,   0.    ]])"
      ]
     },
     "execution_count": 16,
     "metadata": {},
     "output_type": "execute_result"
    }
   ],
   "source": [
    "X_train=trf.transform(X_train)\n",
    "X_test=trf.transform(X_test)\n",
    "X_train"
   ]
  },
  {
   "cell_type": "code",
   "execution_count": 17,
   "id": "bb90492d",
   "metadata": {},
   "outputs": [
    {
     "data": {
      "text/plain": [
       "array([28.75])"
      ]
     },
     "execution_count": 17,
     "metadata": {},
     "output_type": "execute_result"
    }
   ],
   "source": [
    "\n",
    "# median value\n",
    "\n",
    "trf.named_transformers_['imputer1'].statistics_"
   ]
  },
  {
   "cell_type": "code",
   "execution_count": 18,
   "id": "d7d1b1df",
   "metadata": {},
   "outputs": [
    {
     "data": {
      "text/plain": [
       "array([32.61759689])"
      ]
     },
     "execution_count": 18,
     "metadata": {},
     "output_type": "execute_result"
    }
   ],
   "source": [
    "\n",
    "# mean value \n",
    "\n",
    "trf.named_transformers_['imputer2'].statistics_\n"
   ]
  },
  {
   "cell_type": "code",
   "execution_count": null,
   "id": "f551d726",
   "metadata": {},
   "outputs": [],
   "source": []
  },
  {
   "cell_type": "markdown",
   "id": "ffad3273",
   "metadata": {},
   "source": [
    "### THE END"
   ]
  }
 ],
 "metadata": {
  "kernelspec": {
   "display_name": "Python 3 (ipykernel)",
   "language": "python",
   "name": "python3"
  },
  "language_info": {
   "codemirror_mode": {
    "name": "ipython",
    "version": 3
   },
   "file_extension": ".py",
   "mimetype": "text/x-python",
   "name": "python",
   "nbconvert_exporter": "python",
   "pygments_lexer": "ipython3",
   "version": "3.9.7"
  }
 },
 "nbformat": 4,
 "nbformat_minor": 5
}
